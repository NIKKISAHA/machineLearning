{
  "nbformat": 4,
  "nbformat_minor": 0,
  "metadata": {
    "colab": {
      "provenance": [],
      "authorship_tag": "ABX9TyPVC51ZPYDLqrrck6fQjTHU",
      "include_colab_link": true
    },
    "kernelspec": {
      "name": "python3",
      "display_name": "Python 3"
    },
    "language_info": {
      "name": "python"
    }
  },
  "cells": [
    {
      "cell_type": "markdown",
      "metadata": {
        "id": "view-in-github",
        "colab_type": "text"
      },
      "source": [
        "<a href=\"https://colab.research.google.com/github/NIKKISAHA/machineLearning/blob/main/energy_consumption_witha_customsimple_dataset.ipynb\" target=\"_parent\"><img src=\"https://colab.research.google.com/assets/colab-badge.svg\" alt=\"Open In Colab\"/></a>"
      ]
    },
    {
      "cell_type": "code",
      "execution_count": 1,
      "metadata": {
        "id": "qiE0npUTdK_V"
      },
      "outputs": [],
      "source": [
        "import pandas as pd\n",
        "import numpy as np\n",
        "from sklearn.preprocessing import MinMaxScaler\n",
        "from tensorflow.keras.models import Sequential\n",
        "from tensorflow.keras.layers import LSTM, Dense"
      ]
    },
    {
      "cell_type": "code",
      "source": [
        "# Create a date range\n",
        "date_range = pd.date_range(start='1/1/2022', end='12/31/2022', freq='H')\n",
        "\n",
        "# Create a random energy consumption series\n",
        "np.random.seed(0)\n",
        "energy_consumption = np.random.uniform(100, 500, size=len(date_range))\n",
        "\n",
        "# Create a DataFrame\n",
        "df = pd.DataFrame({'Date': date_range, 'Energy_Consumption': energy_consumption})\n",
        "\n",
        "# Save the DataFrame to a CSV file\n",
        "df.to_csv('energy_consumption.csv', index=False)\n"
      ],
      "metadata": {
        "colab": {
          "base_uri": "https://localhost:8080/"
        },
        "id": "Dm0zIQdKdZx6",
        "outputId": "dbe421ba-1482-49fb-da84-17af9223d2b9"
      },
      "execution_count": 2,
      "outputs": [
        {
          "output_type": "stream",
          "name": "stderr",
          "text": [
            "<ipython-input-2-928fe6b10317>:2: FutureWarning: 'H' is deprecated and will be removed in a future version, please use 'h' instead.\n",
            "  date_range = pd.date_range(start='1/1/2022', end='12/31/2022', freq='H')\n"
          ]
        }
      ]
    },
    {
      "cell_type": "code",
      "source": [
        "df = pd.read_csv('energy_consumption.csv')\n",
        "print(df)"
      ],
      "metadata": {
        "colab": {
          "base_uri": "https://localhost:8080/"
        },
        "id": "-6wst5skd20J",
        "outputId": "d0942afa-a0df-4393-f0db-3f541c6e98ef"
      },
      "execution_count": 3,
      "outputs": [
        {
          "output_type": "stream",
          "name": "stdout",
          "text": [
            "                     Date  Energy_Consumption\n",
            "0     2022-01-01 00:00:00          319.525402\n",
            "1     2022-01-01 01:00:00          386.075747\n",
            "2     2022-01-01 02:00:00          341.105350\n",
            "3     2022-01-01 03:00:00          317.953273\n",
            "4     2022-01-01 04:00:00          269.461920\n",
            "...                   ...                 ...\n",
            "8732  2022-12-30 20:00:00          394.387388\n",
            "8733  2022-12-30 21:00:00          139.259174\n",
            "8734  2022-12-30 22:00:00          423.577350\n",
            "8735  2022-12-30 23:00:00          419.397614\n",
            "8736  2022-12-31 00:00:00          186.290881\n",
            "\n",
            "[8737 rows x 2 columns]\n"
          ]
        }
      ]
    },
    {
      "cell_type": "code",
      "source": [
        "data = df['Energy_Consumption'].values\n",
        "\n",
        "# Scale data\n",
        "scaler = MinMaxScaler()\n",
        "scaled_data = scaler.fit_transform(data.reshape(-1, 1))"
      ],
      "metadata": {
        "id": "nxGYBT5SePwQ"
      },
      "execution_count": 4,
      "outputs": []
    },
    {
      "cell_type": "code",
      "source": [
        "# Split data into training and testing sets\n",
        "train_size = int(len(scaled_data) * 0.8)\n",
        "train_data, test_data = scaled_data[0:train_size], scaled_data[train_size:len(scaled_data)]\n",
        "\n",
        "# Create training and testing datasets\n",
        "def create_dataset(dataset, time_step=1):\n",
        "    dataX, dataY = [], []\n",
        "    for i in range(len(dataset)-time_step-1):\n",
        "        a = dataset[i:(i+time_step), 0]\n",
        "        dataX.append(a)\n",
        "        dataY.append(dataset[(i+time_step), 0])\n",
        "    return np.array(dataX), np.array(dataY)\n",
        "\n",
        "time_step = 100\n",
        "X_train, y_train = create_dataset(train_data, time_step)\n",
        "X_test, y_test = create_dataset(test_data, time_step)\n",
        "\n",
        "# Reshape data for LSTM model\n",
        "X_train = X_train.reshape(X_train.shape[0],X_train.shape[1],1)\n",
        "X_test = X_test.reshape(X_test.shape[0],X_test.shape[1],1)"
      ],
      "metadata": {
        "id": "Hjoz6TlUeaz7"
      },
      "execution_count": 5,
      "outputs": []
    },
    {
      "cell_type": "code",
      "source": [
        "model = Sequential()\n",
        "model.add(LSTM(units=50, return_sequences=True, input_shape=(X_train.shape[1], 1)))\n",
        "model.add(LSTM(units=50, return_sequences=False))\n",
        "model.add(Dense(units=25))\n",
        "model.add(Dense(units=1))\n",
        "\n",
        "# Compile model\n",
        "model.compile(optimizer='adam', loss='mean_squared_error')"
      ],
      "metadata": {
        "colab": {
          "base_uri": "https://localhost:8080/"
        },
        "id": "pDW7RbtfeiPV",
        "outputId": "15c8a10f-a6cd-46c0-e856-d4cf2c581eac"
      },
      "execution_count": 6,
      "outputs": [
        {
          "output_type": "stream",
          "name": "stderr",
          "text": [
            "/usr/local/lib/python3.11/dist-packages/keras/src/layers/rnn/rnn.py:200: UserWarning: Do not pass an `input_shape`/`input_dim` argument to a layer. When using Sequential models, prefer using an `Input(shape)` object as the first layer in the model instead.\n",
            "  super().__init__(**kwargs)\n"
          ]
        }
      ]
    },
    {
      "cell_type": "code",
      "source": [
        "model.fit(X_train, y_train, epochs=10, batch_size=32, verbose=2)"
      ],
      "metadata": {
        "colab": {
          "base_uri": "https://localhost:8080/"
        },
        "id": "bqYyVJKdemxt",
        "outputId": "1ba1a32c-dfe7-4db0-b3d8-6a06d505cebe"
      },
      "execution_count": 8,
      "outputs": [
        {
          "output_type": "stream",
          "name": "stdout",
          "text": [
            "Epoch 1/10\n",
            "216/216 - 11s - 49ms/step - loss: 0.0838\n",
            "Epoch 2/10\n",
            "216/216 - 20s - 95ms/step - loss: 0.0839\n",
            "Epoch 3/10\n",
            "216/216 - 21s - 96ms/step - loss: 0.0837\n",
            "Epoch 4/10\n",
            "216/216 - 11s - 49ms/step - loss: 0.0842\n",
            "Epoch 5/10\n",
            "216/216 - 20s - 94ms/step - loss: 0.0838\n",
            "Epoch 6/10\n",
            "216/216 - 20s - 94ms/step - loss: 0.0838\n",
            "Epoch 7/10\n",
            "216/216 - 21s - 96ms/step - loss: 0.0838\n",
            "Epoch 8/10\n",
            "216/216 - 20s - 94ms/step - loss: 0.0840\n",
            "Epoch 9/10\n",
            "216/216 - 22s - 100ms/step - loss: 0.0839\n",
            "Epoch 10/10\n",
            "216/216 - 20s - 91ms/step - loss: 0.0838\n"
          ]
        },
        {
          "output_type": "execute_result",
          "data": {
            "text/plain": [
              "<keras.src.callbacks.history.History at 0x7ed59ac34990>"
            ]
          },
          "metadata": {},
          "execution_count": 8
        }
      ]
    },
    {
      "cell_type": "code",
      "source": [
        "predictions = model.predict(X_test)\n",
        "\n",
        "# Evaluate model\n",
        "mse = model.evaluate(X_test, y_test)\n",
        "print('MSE: ', mse)"
      ],
      "metadata": {
        "colab": {
          "base_uri": "https://localhost:8080/"
        },
        "id": "4hmbOSheeuJr",
        "outputId": "7213e5f9-5f2a-4cfc-f16d-367e8bfa082b"
      },
      "execution_count": 12,
      "outputs": [
        {
          "output_type": "stream",
          "name": "stdout",
          "text": [
            "\u001b[1m52/52\u001b[0m \u001b[32m━━━━━━━━━━━━━━━━━━━━\u001b[0m\u001b[37m\u001b[0m \u001b[1m1s\u001b[0m 14ms/step\n",
            "\u001b[1m52/52\u001b[0m \u001b[32m━━━━━━━━━━━━━━━━━━━━\u001b[0m\u001b[37m\u001b[0m \u001b[1m1s\u001b[0m 15ms/step - loss: 0.0863\n",
            "MSE:  0.08410238474607468\n"
          ]
        }
      ]
    }
  ]
}