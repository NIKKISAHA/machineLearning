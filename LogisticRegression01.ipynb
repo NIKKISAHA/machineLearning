{
  "nbformat": 4,
  "nbformat_minor": 0,
  "metadata": {
    "colab": {
      "provenance": [],
      "authorship_tag": "ABX9TyNj9mq2T+EIsxXOvZFgZlWQ",
      "include_colab_link": true
    },
    "kernelspec": {
      "name": "python3",
      "display_name": "Python 3"
    },
    "language_info": {
      "name": "python"
    }
  },
  "cells": [
    {
      "cell_type": "markdown",
      "metadata": {
        "id": "view-in-github",
        "colab_type": "text"
      },
      "source": [
        "<a href=\"https://colab.research.google.com/github/NIKKISAHA/dataStructure/blob/main/LogisticRegression01.ipynb\" target=\"_parent\"><img src=\"https://colab.research.google.com/assets/colab-badge.svg\" alt=\"Open In Colab\"/></a>"
      ]
    },
    {
      "cell_type": "code",
      "execution_count": 37,
      "metadata": {
        "id": "spTyDeLtM2uN"
      },
      "outputs": [],
      "source": [
        "import matplotlib.pyplot as plt\n",
        "import numpy as np\n",
        "import pandas as pd\n",
        "import seaborn as sns\n",
        "\n",
        "# data=[(21,\"no\"),(48,\"yes\"),(31,\"yes\"),(42,\"yes\"),(20,\"no\"),(23,\"no\"),(35,\"yes\")]\n",
        "data=[[21,\"no\"],[48,\"yes\"],[31,\"yes\"],[42,\"yes\"],[20,\"no\"],[23,\"no\"],[35,\"yes\"]]\n",
        "\n",
        "mydf=pd.DataFrame(data,columns=[\"age\",\"money\"])\n",
        "# mydf\n",
        "\n",
        "mydf[\"money\"].replace({\"no\":\"0\",\"yes\":\"1\"},inplace=True)\n",
        "mydf.dtypes"
      ]
    },
    {
      "cell_type": "code",
      "source": [
        "x=mydf.iloc[:,0:1].values\n",
        "print(x)\n",
        "y=mydf.iloc[:,1].values\n",
        "y\n",
        "# sns.lmplot(x=\"age\",y=\"money\",data = mydf)"
      ],
      "metadata": {
        "colab": {
          "base_uri": "https://localhost:8080/"
        },
        "id": "5ufxI9e8OxEJ",
        "outputId": "fe81a1dd-c57b-4b94-f0bb-50fa3975415e"
      },
      "execution_count": 56,
      "outputs": [
        {
          "output_type": "stream",
          "name": "stdout",
          "text": [
            "[[21]\n",
            " [48]\n",
            " [31]\n",
            " [42]\n",
            " [20]\n",
            " [23]\n",
            " [35]]\n"
          ]
        },
        {
          "output_type": "execute_result",
          "data": {
            "text/plain": [
              "array(['0', '1', '1', '1', '0', '0', '1'], dtype=object)"
            ]
          },
          "metadata": {},
          "execution_count": 56
        }
      ]
    },
    {
      "cell_type": "code",
      "source": [
        "from sklearn.model_selection import train_test_split\n",
        "x_train,x_test,y_train,y_test=train_test_split(mydf[[\"age\"]],mydf[\"money\"],test_size=0.2)\n",
        "# x_train\n",
        "# x_test\n",
        "# y_train\n",
        "# y_test\n",
        "\n",
        "from sklearn.linear_model import LogisticRegression\n",
        "lr = LogisticRegression()\n",
        "lr.fit(x_train,y_train)\n",
        "lr.predict([[9]])\n",
        "lr.score(x_test,y_test)"
      ],
      "metadata": {
        "colab": {
          "base_uri": "https://localhost:8080/"
        },
        "id": "NC_ILHQ4U1XJ",
        "outputId": "74e780be-23b2-421f-d4d1-9e2fbcddc9ec"
      },
      "execution_count": 83,
      "outputs": [
        {
          "output_type": "stream",
          "name": "stderr",
          "text": [
            "/usr/local/lib/python3.10/dist-packages/sklearn/base.py:439: UserWarning: X does not have valid feature names, but LogisticRegression was fitted with feature names\n",
            "  warnings.warn(\n"
          ]
        },
        {
          "output_type": "execute_result",
          "data": {
            "text/plain": [
              "1.0"
            ]
          },
          "metadata": {},
          "execution_count": 83
        }
      ]
    }
  ]
}