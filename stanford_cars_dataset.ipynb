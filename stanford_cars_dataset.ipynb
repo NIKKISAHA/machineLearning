{
  "nbformat": 4,
  "nbformat_minor": 0,
  "metadata": {
    "colab": {
      "provenance": [],
      "authorship_tag": "ABX9TyNiuxBcu87rvkBG/apPYeQW",
      "include_colab_link": true
    },
    "kernelspec": {
      "name": "python3",
      "display_name": "Python 3"
    },
    "language_info": {
      "name": "python"
    }
  },
  "cells": [
    {
      "cell_type": "markdown",
      "metadata": {
        "id": "view-in-github",
        "colab_type": "text"
      },
      "source": [
        "<a href=\"https://colab.research.google.com/github/NIKKISAHA/machineLearning/blob/main/stanford_cars_dataset.ipynb\" target=\"_parent\"><img src=\"https://colab.research.google.com/assets/colab-badge.svg\" alt=\"Open In Colab\"/></a>"
      ]
    },
    {
      "cell_type": "code",
      "execution_count": 2,
      "metadata": {
        "colab": {
          "base_uri": "https://localhost:8080/"
        },
        "id": "CQT_77lAbucR",
        "outputId": "e665587b-1162-47e8-b8cf-95929478b051"
      },
      "outputs": [
        {
          "output_type": "stream",
          "name": "stdout",
          "text": [
            "Downloading from https://www.kaggle.com/api/v1/datasets/download/jessicali9530/stanford-cars-dataset?dataset_version_number=2...\n"
          ]
        },
        {
          "output_type": "stream",
          "name": "stderr",
          "text": [
            "100%|██████████| 1.82G/1.82G [00:22<00:00, 88.0MB/s]"
          ]
        },
        {
          "output_type": "stream",
          "name": "stdout",
          "text": [
            "Extracting files...\n"
          ]
        },
        {
          "output_type": "stream",
          "name": "stderr",
          "text": [
            "\n"
          ]
        },
        {
          "output_type": "stream",
          "name": "stdout",
          "text": [
            "Path to dataset files: /root/.cache/kagglehub/datasets/jessicali9530/stanford-cars-dataset/versions/2\n"
          ]
        }
      ],
      "source": [
        "import kagglehub\n",
        "\n",
        "# Download latest version\n",
        "path = kagglehub.dataset_download(\"jessicali9530/stanford-cars-dataset\")\n",
        "\n",
        "print(\"Path to dataset files:\", path)"
      ]
    },
    {
      "cell_type": "code",
      "source": [
        "import kagglehub\n",
        "import tensorflow as tf\n",
        "from tensorflow import keras\n",
        "from sklearn.model_selection import train_test_split\n",
        "import numpy as np\n",
        "import matplotlib.pyplot as plt\n",
        "import os\n",
        "\n",
        "# Load dataset\n",
        "train_dir = os.path.join(path, 'cars_train')\n",
        "test_dir = os.path.join(path, 'cars_test')"
      ],
      "metadata": {
        "id": "rUb-Wyn1b92H"
      },
      "execution_count": 3,
      "outputs": []
    },
    {
      "cell_type": "code",
      "source": [
        "# Load and preprocess data using Keras ImageDataGenerator\n",
        "train_datagen = keras.preprocessing.image.ImageDataGenerator(rescale=1./255,\n",
        "                                                                    shear_range=0.2,\n",
        "                                                                    zoom_range=0.2,\n",
        "                                                                    horizontal_flip=True)\n",
        "\n",
        "test_datagen = keras.preprocessing.image.ImageDataGenerator(rescale=1./255)\n",
        "\n",
        "train_generator = train_datagen.flow_from_directory(train_dir,\n",
        "                                                        target_size=(224, 224),\n",
        "                                                        batch_size=32,\n",
        "                                                        class_mode='categorical')\n",
        "\n",
        "test_generator = test_datagen.flow_from_directory(test_dir,\n",
        "                                                      target_size=(224, 224),\n",
        "                                                      batch_size=32,\n",
        "                                                      class_mode='categorical')"
      ],
      "metadata": {
        "colab": {
          "base_uri": "https://localhost:8080/"
        },
        "id": "O0NQq-W7d45a",
        "outputId": "474454d6-40c7-4ed3-a219-f29528628f7b"
      },
      "execution_count": 4,
      "outputs": [
        {
          "output_type": "stream",
          "name": "stdout",
          "text": [
            "Found 8144 images belonging to 1 classes.\n",
            "Found 8041 images belonging to 1 classes.\n"
          ]
        }
      ]
    },
    {
      "cell_type": "code",
      "source": [
        "from tensorflow.keras.applications import MobileNetV2\n",
        "from tensorflow.keras.models import Model\n",
        "from tensorflow.keras.layers import Dense, Flatten\n",
        "from tensorflow.keras.preprocessing.image import ImageDataGenerator\n",
        "\n",
        "base_model = MobileNetV2(weights='imagenet', include_top=False, input_shape=(224, 224, 3))\n",
        "\n",
        "# Freeze the early layers\n",
        "for layer in base_model.layers:\n",
        "    layer.trainable = False\n",
        "\n",
        "# Add custom layers\n",
        "x = base_model.output\n",
        "x = Flatten()(x)\n",
        "x = Dense(128, activation='relu')(x)\n",
        "x = Dense(196, activation='softmax')(x)\n",
        "\n",
        "# Create the new model\n",
        "model = Model(inputs=base_model.input, outputs=x)\n"
      ],
      "metadata": {
        "id": "q5GI9uxTejin"
      },
      "execution_count": 5,
      "outputs": []
    },
    {
      "cell_type": "code",
      "source": [
        "model.compile(optimizer='adam',\n",
        "              loss='sparse_categorical_crossentropy',\n",
        "              metrics=['accuracy'])"
      ],
      "metadata": {
        "id": "rurcGfmunWRE"
      },
      "execution_count": 7,
      "outputs": []
    },
    {
      "cell_type": "code",
      "source": [
        "history = model.fit(train_generator,\n",
        "                      epochs=5\n",
        "                      )"
      ],
      "metadata": {
        "colab": {
          "base_uri": "https://localhost:8080/"
        },
        "id": "8_uGbi_jfKJ5",
        "outputId": "ea832320-c732-4546-9e35-af4635493ac3"
      },
      "execution_count": 8,
      "outputs": [
        {
          "output_type": "stream",
          "name": "stderr",
          "text": [
            "/usr/local/lib/python3.11/dist-packages/keras/src/trainers/data_adapters/py_dataset_adapter.py:121: UserWarning: Your `PyDataset` class should call `super().__init__(**kwargs)` in its constructor. `**kwargs` can include `workers`, `use_multiprocessing`, `max_queue_size`. Do not pass these arguments to `fit()`, as they will be ignored.\n",
            "  self._warn_if_super_not_called()\n"
          ]
        },
        {
          "output_type": "stream",
          "name": "stdout",
          "text": [
            "Epoch 1/5\n",
            "\u001b[1m255/255\u001b[0m \u001b[32m━━━━━━━━━━━━━━━━━━━━\u001b[0m\u001b[37m\u001b[0m \u001b[1m500s\u001b[0m 2s/step - accuracy: 0.9761 - loss: 0.1550\n",
            "Epoch 2/5\n",
            "\u001b[1m255/255\u001b[0m \u001b[32m━━━━━━━━━━━━━━━━━━━━\u001b[0m\u001b[37m\u001b[0m \u001b[1m478s\u001b[0m 2s/step - accuracy: 1.0000 - loss: 0.0000e+00\n",
            "Epoch 3/5\n",
            "\u001b[1m255/255\u001b[0m \u001b[32m━━━━━━━━━━━━━━━━━━━━\u001b[0m\u001b[37m\u001b[0m \u001b[1m462s\u001b[0m 2s/step - accuracy: 1.0000 - loss: 0.0000e+00\n",
            "Epoch 4/5\n",
            "\u001b[1m255/255\u001b[0m \u001b[32m━━━━━━━━━━━━━━━━━━━━\u001b[0m\u001b[37m\u001b[0m \u001b[1m516s\u001b[0m 2s/step - accuracy: 1.0000 - loss: 0.0000e+00\n",
            "Epoch 5/5\n",
            "\u001b[1m255/255\u001b[0m \u001b[32m━━━━━━━━━━━━━━━━━━━━\u001b[0m\u001b[37m\u001b[0m \u001b[1m497s\u001b[0m 2s/step - accuracy: 1.0000 - loss: 0.0000e+00\n"
          ]
        }
      ]
    },
    {
      "cell_type": "code",
      "source": [
        "from google.colab import files\n",
        "imga = files.upload() #returns-dictionary,have to assain it to a veriable,in python whena function return value and you don't assain it you will get a warning\n",
        "file_content = list(imga.keys())[0] #save the last uploaded file\n",
        "img = file_content\n",
        "print(\"file is \", img)"
      ],
      "metadata": {
        "colab": {
          "base_uri": "https://localhost:8080/",
          "height": 90
        },
        "id": "PZFakbWHpnhX",
        "outputId": "49f3f4bd-d5c6-461e-c684-22ba77409000"
      },
      "execution_count": 12,
      "outputs": [
        {
          "output_type": "display_data",
          "data": {
            "text/plain": [
              "<IPython.core.display.HTML object>"
            ],
            "text/html": [
              "\n",
              "     <input type=\"file\" id=\"files-2174baca-e4d5-48c9-ac3c-384e99e2a42d\" name=\"files[]\" multiple disabled\n",
              "        style=\"border:none\" />\n",
              "     <output id=\"result-2174baca-e4d5-48c9-ac3c-384e99e2a42d\">\n",
              "      Upload widget is only available when the cell has been executed in the\n",
              "      current browser session. Please rerun this cell to enable.\n",
              "      </output>\n",
              "      <script>// Copyright 2017 Google LLC\n",
              "//\n",
              "// Licensed under the Apache License, Version 2.0 (the \"License\");\n",
              "// you may not use this file except in compliance with the License.\n",
              "// You may obtain a copy of the License at\n",
              "//\n",
              "//      http://www.apache.org/licenses/LICENSE-2.0\n",
              "//\n",
              "// Unless required by applicable law or agreed to in writing, software\n",
              "// distributed under the License is distributed on an \"AS IS\" BASIS,\n",
              "// WITHOUT WARRANTIES OR CONDITIONS OF ANY KIND, either express or implied.\n",
              "// See the License for the specific language governing permissions and\n",
              "// limitations under the License.\n",
              "\n",
              "/**\n",
              " * @fileoverview Helpers for google.colab Python module.\n",
              " */\n",
              "(function(scope) {\n",
              "function span(text, styleAttributes = {}) {\n",
              "  const element = document.createElement('span');\n",
              "  element.textContent = text;\n",
              "  for (const key of Object.keys(styleAttributes)) {\n",
              "    element.style[key] = styleAttributes[key];\n",
              "  }\n",
              "  return element;\n",
              "}\n",
              "\n",
              "// Max number of bytes which will be uploaded at a time.\n",
              "const MAX_PAYLOAD_SIZE = 100 * 1024;\n",
              "\n",
              "function _uploadFiles(inputId, outputId) {\n",
              "  const steps = uploadFilesStep(inputId, outputId);\n",
              "  const outputElement = document.getElementById(outputId);\n",
              "  // Cache steps on the outputElement to make it available for the next call\n",
              "  // to uploadFilesContinue from Python.\n",
              "  outputElement.steps = steps;\n",
              "\n",
              "  return _uploadFilesContinue(outputId);\n",
              "}\n",
              "\n",
              "// This is roughly an async generator (not supported in the browser yet),\n",
              "// where there are multiple asynchronous steps and the Python side is going\n",
              "// to poll for completion of each step.\n",
              "// This uses a Promise to block the python side on completion of each step,\n",
              "// then passes the result of the previous step as the input to the next step.\n",
              "function _uploadFilesContinue(outputId) {\n",
              "  const outputElement = document.getElementById(outputId);\n",
              "  const steps = outputElement.steps;\n",
              "\n",
              "  const next = steps.next(outputElement.lastPromiseValue);\n",
              "  return Promise.resolve(next.value.promise).then((value) => {\n",
              "    // Cache the last promise value to make it available to the next\n",
              "    // step of the generator.\n",
              "    outputElement.lastPromiseValue = value;\n",
              "    return next.value.response;\n",
              "  });\n",
              "}\n",
              "\n",
              "/**\n",
              " * Generator function which is called between each async step of the upload\n",
              " * process.\n",
              " * @param {string} inputId Element ID of the input file picker element.\n",
              " * @param {string} outputId Element ID of the output display.\n",
              " * @return {!Iterable<!Object>} Iterable of next steps.\n",
              " */\n",
              "function* uploadFilesStep(inputId, outputId) {\n",
              "  const inputElement = document.getElementById(inputId);\n",
              "  inputElement.disabled = false;\n",
              "\n",
              "  const outputElement = document.getElementById(outputId);\n",
              "  outputElement.innerHTML = '';\n",
              "\n",
              "  const pickedPromise = new Promise((resolve) => {\n",
              "    inputElement.addEventListener('change', (e) => {\n",
              "      resolve(e.target.files);\n",
              "    });\n",
              "  });\n",
              "\n",
              "  const cancel = document.createElement('button');\n",
              "  inputElement.parentElement.appendChild(cancel);\n",
              "  cancel.textContent = 'Cancel upload';\n",
              "  const cancelPromise = new Promise((resolve) => {\n",
              "    cancel.onclick = () => {\n",
              "      resolve(null);\n",
              "    };\n",
              "  });\n",
              "\n",
              "  // Wait for the user to pick the files.\n",
              "  const files = yield {\n",
              "    promise: Promise.race([pickedPromise, cancelPromise]),\n",
              "    response: {\n",
              "      action: 'starting',\n",
              "    }\n",
              "  };\n",
              "\n",
              "  cancel.remove();\n",
              "\n",
              "  // Disable the input element since further picks are not allowed.\n",
              "  inputElement.disabled = true;\n",
              "\n",
              "  if (!files) {\n",
              "    return {\n",
              "      response: {\n",
              "        action: 'complete',\n",
              "      }\n",
              "    };\n",
              "  }\n",
              "\n",
              "  for (const file of files) {\n",
              "    const li = document.createElement('li');\n",
              "    li.append(span(file.name, {fontWeight: 'bold'}));\n",
              "    li.append(span(\n",
              "        `(${file.type || 'n/a'}) - ${file.size} bytes, ` +\n",
              "        `last modified: ${\n",
              "            file.lastModifiedDate ? file.lastModifiedDate.toLocaleDateString() :\n",
              "                                    'n/a'} - `));\n",
              "    const percent = span('0% done');\n",
              "    li.appendChild(percent);\n",
              "\n",
              "    outputElement.appendChild(li);\n",
              "\n",
              "    const fileDataPromise = new Promise((resolve) => {\n",
              "      const reader = new FileReader();\n",
              "      reader.onload = (e) => {\n",
              "        resolve(e.target.result);\n",
              "      };\n",
              "      reader.readAsArrayBuffer(file);\n",
              "    });\n",
              "    // Wait for the data to be ready.\n",
              "    let fileData = yield {\n",
              "      promise: fileDataPromise,\n",
              "      response: {\n",
              "        action: 'continue',\n",
              "      }\n",
              "    };\n",
              "\n",
              "    // Use a chunked sending to avoid message size limits. See b/62115660.\n",
              "    let position = 0;\n",
              "    do {\n",
              "      const length = Math.min(fileData.byteLength - position, MAX_PAYLOAD_SIZE);\n",
              "      const chunk = new Uint8Array(fileData, position, length);\n",
              "      position += length;\n",
              "\n",
              "      const base64 = btoa(String.fromCharCode.apply(null, chunk));\n",
              "      yield {\n",
              "        response: {\n",
              "          action: 'append',\n",
              "          file: file.name,\n",
              "          data: base64,\n",
              "        },\n",
              "      };\n",
              "\n",
              "      let percentDone = fileData.byteLength === 0 ?\n",
              "          100 :\n",
              "          Math.round((position / fileData.byteLength) * 100);\n",
              "      percent.textContent = `${percentDone}% done`;\n",
              "\n",
              "    } while (position < fileData.byteLength);\n",
              "  }\n",
              "\n",
              "  // All done.\n",
              "  yield {\n",
              "    response: {\n",
              "      action: 'complete',\n",
              "    }\n",
              "  };\n",
              "}\n",
              "\n",
              "scope.google = scope.google || {};\n",
              "scope.google.colab = scope.google.colab || {};\n",
              "scope.google.colab._files = {\n",
              "  _uploadFiles,\n",
              "  _uploadFilesContinue,\n",
              "};\n",
              "})(self);\n",
              "</script> "
            ]
          },
          "metadata": {}
        },
        {
          "output_type": "stream",
          "name": "stdout",
          "text": [
            "Saving Screenshot (19).png to Screenshot (19).png\n",
            "file is  Screenshot (19).png\n"
          ]
        }
      ]
    },
    {
      "cell_type": "code",
      "source": [
        "from PIL import Image\n",
        "img = Image.open(img) #open the image\n",
        "\n",
        "\n",
        "# For resixing\n",
        "import numpy as np\n",
        "img = img.resize((224, 224))\n",
        "# img = img.convert('L')  # Convert to grayscale\n",
        "img = img.convert('RGB') # Convert to rgb\n",
        "img = np.array(img) / 255.0  # Normalize pixel values\n",
        "# img = img.reshape((1, 28, 28, 1)) #Add a size\n",
        "img = np.expand_dims(img,axis=0)"
      ],
      "metadata": {
        "id": "Xtp1XjXQpp72"
      },
      "execution_count": 13,
      "outputs": []
    },
    {
      "cell_type": "code",
      "source": [
        "# prediction\n",
        "prediction = model.predict(img)\n",
        "predicted_class = np.argmax(prediction)\n",
        "print(\"Predicted digit class:\", predicted_class)\n",
        "class_labels = [\n",
        "    \"Acura Integra\", \"Acura TL\", \"Acura TSX\", \"Audi A3\", \"Audi A4\",\n",
        "    \"Audi A6\", \"Audi TT\", \"BMW 1 Series\", \"BMW 3 Series\", \"BMW 5 Series\",\n",
        "    \"BMW X5\", \"Buick Century\", \"Buick Regal\", \"Buick Verano\", \"Cadillac CTS\",\n",
        "    \"Cadillac Escalade\", \"Chevrolet Camaro\", \"Chevrolet Corvette\",\n",
        "    \"Chevrolet Impala\", \"Chevrolet Malibu\", \"Chevrolet Silverado\",\n",
        "    \"Chevrolet Tahoe\", \"Chrysler 200\", \"Chrysler 300\", \"Dodge Challenger\",\n",
        "    \"Dodge Charger\", \"Dodge Durango\", \"Dodge Grand Caravan\", \"Dodge Journey\",\n",
        "    \"Ford F-150\", \"Ford Focus\", \"Ford Fusion\", \"Ford Mustang\", \"Ford Taurus\",\n",
        "    \"GMC Sierra\", \"GMC Yukon\", \"Honda Accord\", \"Honda Civic\", \"Honda CR-V\",\n",
        "    \"Honda Pilot\", \"Hyundai Elantra\", \"Hyundai Genesis\", \"Hyundai Santa Fe\",\n",
        "    \"Hyundai Sonata\", \"Infiniti G\", \"Infiniti JX\", \"Jeep Grand Cherokee\",\n",
        "    \"Jeep Liberty\", \"Jeep Wrangler\", \"Kia Forte\", \"Kia Optima\", \"Kia Sorento\",\n",
        "    \"Kia Sportage\", \"Lamborghini Aventador\", \"Lamborghini Gallardo\",\n",
        "    \"Lexus ES\", \"Lexus GS\", \"Lexus IS\", \"Lexus RX\", \"Mazda3\", \"Mazda CX-9\",\n",
        "    \"Mazda MX-5\", \"Mercedes-Benz C-Class\", \"Mercedes-Benz CLS-Class\",\n",
        "    \"Mercedes-Benz E-Class\", \"Mercedes-Benz GLE-Class\", \"Mercedes-Benz GLK-Class\",\n",
        "    \"Mercedes-Benz M-Class\", \"Mercedes-Benz S-Class\", \"Mercedes-Benz SL-Class\",\n",
        "    \"Mercedes-Benz SLK-Class\", \"Mitsubishi Eclipse\", \"Mitsubishi Galant\",\n",
        "    \"Mitsubishi Lancer\", \"Mitsubishi Outlander\", \"Nissan 370Z\", \"Nissan Altima\",\n",
        "    \"Nissan GT-R\", \"Nissan Juke\", \"Nissan Leaf\", \"Nissan Maxima\", \"Nissan Murano\",\n",
        "    \"Nissan Pathfinder\", \"Nissan Rogue\", \"Nissan Sentra\", \"Nissan Titan\", \"Nissan Versa\",\n",
        "    \"Nissan Xterra\", \"Porsche 911\", \"Porsche Boxster\", \"Porsche Cayenne\",\n",
        "    \"Porsche Cayman\", \"Porsche Macan\", \"Porsche Panamera\", \"Ram 1500\", \"Ram 2500\",\n",
        "    \"Ram 3500\", \"Subaru Impreza\", \"Subaru Legacy\", \"Subaru Outback\",\n",
        "    \"Subaru Tribeca\", \"Subaru WRX\", \"Suzuki Kizashi\", \"Tesla Model S\",\n",
        "    \"Toyota 4Runner\", \"Toyota Avalon\", \"Toyota Camry\", \"Toyota Corolla\",\n",
        "    \"Toyota FJ Cruiser\", \"Toyota Highlander\", \"Toyota Land Cruiser\", \"Toyota Matrix\",\n",
        "    \"Toyota Prius\", \"Toyota RAV4\", \"Toyota Sequoia\", \"Toyota Sienna\", \"Toyota Tacoma\",\n",
        "    \"Toyota Tundra\", \"Toyota Yaris\", \"Volkswagen Beetle\", \"Volkswagen CC\",\n",
        "    \"Volkswagen Golf\", \"Volkswagen GTI\", \"Volkswagen Jetta\", \"Volkswagen Passat\",\n",
        "    \"Volkswagen Tiguan\", \"Volkswagen Touareg\", \"Volvo C30\", \"Volvo C70\",\n",
        "    \"Volvo S60\", \"Volvo S80\", \"Volvo XC60\", \"Volvo XC70\", \"Volvo XC90\"\n",
        "]\n",
        "predicted_class_index = np.argmax(prediction)\n",
        "predicted_class_label = class_labels[predicted_class_index]\n",
        "print('Predicted class:', predicted_class_label)\n"
      ],
      "metadata": {
        "colab": {
          "base_uri": "https://localhost:8080/"
        },
        "id": "0SuVrzgDyqzK",
        "outputId": "21e93d08-9ed2-4a2d-8e89-1c7788c1deb8"
      },
      "execution_count": 14,
      "outputs": [
        {
          "output_type": "stream",
          "name": "stdout",
          "text": [
            "\u001b[1m1/1\u001b[0m \u001b[32m━━━━━━━━━━━━━━━━━━━━\u001b[0m\u001b[37m\u001b[0m \u001b[1m0s\u001b[0m 89ms/step\n",
            "Predicted digit class: 1\n",
            "Predicted class: Acura TL\n"
          ]
        }
      ]
    }
  ]
}