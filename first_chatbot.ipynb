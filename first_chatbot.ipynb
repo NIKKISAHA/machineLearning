{
  "nbformat": 4,
  "nbformat_minor": 0,
  "metadata": {
    "colab": {
      "provenance": [],
      "authorship_tag": "ABX9TyMYqKwxwGEpD9C5pl4ZpdNv",
      "include_colab_link": true
    },
    "kernelspec": {
      "name": "python3",
      "display_name": "Python 3"
    },
    "language_info": {
      "name": "python"
    }
  },
  "cells": [
    {
      "cell_type": "markdown",
      "metadata": {
        "id": "view-in-github",
        "colab_type": "text"
      },
      "source": [
        "<a href=\"https://colab.research.google.com/github/NIKKISAHA/machineLearning/blob/main/first_chatbot.ipynb\" target=\"_parent\"><img src=\"https://colab.research.google.com/assets/colab-badge.svg\" alt=\"Open In Colab\"/></a>"
      ]
    },
    {
      "cell_type": "code",
      "execution_count": 1,
      "metadata": {
        "id": "kjOxikTGcxrG"
      },
      "outputs": [],
      "source": [
        "import numpy as np\n",
        "import tensorflow as tf\n",
        "from tensorflow.keras.models import Sequential\n",
        "from tensorflow.keras.layers import Dense\n",
        "from sklearn.feature_extraction.text import TfidfVectorizer\n",
        "from sklearn.datasets import fetch_20newsgroups\n",
        "from sklearn.model_selection import train_test_split\n",
        "\n",
        "# Load the 20 Newsgroups dataset\n",
        "newsgroups_train = fetch_20newsgroups(subset='train', remove=('headers', 'footers', 'quotes'))\n",
        "newsgroups_test = fetch_20newsgroups(subset='test', remove=('headers', 'footers', 'quotes'))\n",
        "\n",
        "# Create a TfidfVectorizer object with max features\n",
        "vectorizer = TfidfVectorizer(max_features=5000)\n",
        "\n",
        "# Fit the vectorizer to the training data and transform both the training and testing data\n",
        "X_train_tfidf = vectorizer.fit_transform(newsgroups_train.data)\n",
        "y_train = newsgroups_train.target\n",
        "X_test_tfidf = vectorizer.transform(newsgroups_test.data)\n",
        "y_test = newsgroups_test.target"
      ]
    },
    {
      "cell_type": "code",
      "source": [
        "# Create a simple neural network model\n",
        "model = Sequential()\n",
        "model.add(Dense(64, activation='relu', input_shape=(X_train_tfidf.shape[1],)))\n",
        "model.add(Dense(32, activation='relu'))\n",
        "model.add(Dense(20, activation='softmax'))\n",
        "\n",
        "# Compile the model\n",
        "model.compile(loss='sparse_categorical_crossentropy', optimizer='nadam', metrics=['accuracy'])"
      ],
      "metadata": {
        "colab": {
          "base_uri": "https://localhost:8080/"
        },
        "id": "htOoE2lpjrS4",
        "outputId": "84165c2a-4cda-4af4-ee88-72dc55f6125d"
      },
      "execution_count": 2,
      "outputs": [
        {
          "output_type": "stream",
          "name": "stderr",
          "text": [
            "/usr/local/lib/python3.11/dist-packages/keras/src/layers/core/dense.py:87: UserWarning: Do not pass an `input_shape`/`input_dim` argument to a layer. When using Sequential models, prefer using an `Input(shape)` object as the first layer in the model instead.\n",
            "  super().__init__(activity_regularizer=activity_regularizer, **kwargs)\n"
          ]
        }
      ]
    },
    {
      "cell_type": "code",
      "source": [
        "model.fit(X_train_tfidf, y_train, epochs=5, batch_size=16, validation_data=(X_test_tfidf, y_test))"
      ],
      "metadata": {
        "colab": {
          "base_uri": "https://localhost:8080/"
        },
        "id": "KjrimC97ju7s",
        "outputId": "6757991a-20b5-4f3f-b5f0-e1b965118359"
      },
      "execution_count": 3,
      "outputs": [
        {
          "output_type": "stream",
          "name": "stdout",
          "text": [
            "Epoch 1/5\n",
            "\u001b[1m708/708\u001b[0m \u001b[32m━━━━━━━━━━━━━━━━━━━━\u001b[0m\u001b[37m\u001b[0m \u001b[1m14s\u001b[0m 16ms/step - accuracy: 0.3063 - loss: 2.5295 - val_accuracy: 0.6061 - val_loss: 1.3971\n",
            "Epoch 2/5\n",
            "\u001b[1m708/708\u001b[0m \u001b[32m━━━━━━━━━━━━━━━━━━━━\u001b[0m\u001b[37m\u001b[0m \u001b[1m17s\u001b[0m 11ms/step - accuracy: 0.7523 - loss: 0.9258 - val_accuracy: 0.6204 - val_loss: 1.2752\n",
            "Epoch 3/5\n",
            "\u001b[1m708/708\u001b[0m \u001b[32m━━━━━━━━━━━━━━━━━━━━\u001b[0m\u001b[37m\u001b[0m \u001b[1m9s\u001b[0m 13ms/step - accuracy: 0.8562 - loss: 0.5634 - val_accuracy: 0.6163 - val_loss: 1.3526\n",
            "Epoch 4/5\n",
            "\u001b[1m708/708\u001b[0m \u001b[32m━━━━━━━━━━━━━━━━━━━━\u001b[0m\u001b[37m\u001b[0m \u001b[1m8s\u001b[0m 10ms/step - accuracy: 0.9106 - loss: 0.3705 - val_accuracy: 0.6114 - val_loss: 1.4707\n",
            "Epoch 5/5\n",
            "\u001b[1m708/708\u001b[0m \u001b[32m━━━━━━━━━━━━━━━━━━━━\u001b[0m\u001b[37m\u001b[0m \u001b[1m8s\u001b[0m 11ms/step - accuracy: 0.9447 - loss: 0.2552 - val_accuracy: 0.6050 - val_loss: 1.6056\n"
          ]
        },
        {
          "output_type": "execute_result",
          "data": {
            "text/plain": [
              "<keras.src.callbacks.history.History at 0x7aa28870a990>"
            ]
          },
          "metadata": {},
          "execution_count": 3
        }
      ]
    },
    {
      "cell_type": "code",
      "source": [
        "# Define a function to generate responses\n",
        "def generate_response(input_text):\n",
        "    input_tfidf = vectorizer.transform([input_text])\n",
        "    predicted_class = np.argmax(model.predict(input_tfidf), axis=1)[0]\n",
        "    response = newsgroups_train.data[predicted_class]\n",
        "    return response\n",
        "\n",
        "# Test the chatbot\n",
        "while True:\n",
        "    user_input = input(\"User: \")\n",
        "    response = generate_response(user_input)\n",
        "    print(\"Chatbot: \", response)\n",
        "    if  input(\"User: \") == \"exit\":\n",
        "      break\n",
        ""
      ],
      "metadata": {
        "colab": {
          "base_uri": "https://localhost:8080/"
        },
        "id": "mfzXn1IGjxmP",
        "outputId": "35363a89-6867-46af-b318-3d7d425f283a"
      },
      "execution_count": 27,
      "outputs": [
        {
          "name": "stdout",
          "output_type": "stream",
          "text": [
            "User: cpu\n",
            "\u001b[1m1/1\u001b[0m \u001b[32m━━━━━━━━━━━━━━━━━━━━\u001b[0m\u001b[37m\u001b[0m \u001b[1m0s\u001b[0m 156ms/step\n",
            "Chatbot:  \n",
            "Do you have Weitek's address/phone number?  I'd like to get some information\n",
            "about this chip.\n",
            "\n",
            "User: no\n",
            "User: exit\n",
            "\u001b[1m1/1\u001b[0m \u001b[32m━━━━━━━━━━━━━━━━━━━━\u001b[0m\u001b[37m\u001b[0m \u001b[1m0s\u001b[0m 153ms/step\n",
            "Chatbot:  well folks, my mac plus finally gave up the ghost this weekend after\n",
            "starting life as a 512k way back in 1985.  sooo, i'm in the market for a\n",
            "new machine a bit sooner than i intended to be...\n",
            "\n",
            "i'm looking into picking up a powerbook 160 or maybe 180 and have a bunch\n",
            "of questions that (hopefully) somebody can answer:\n",
            "\n",
            "* does anybody know any dirt on when the next round of powerbook\n",
            "introductions are expected?  i'd heard the 185c was supposed to make an\n",
            "appearence \"this summer\" but haven't heard anymore on it - and since i\n",
            "don't have access to macleak, i was wondering if anybody out there had\n",
            "more info...\n",
            "\n",
            "* has anybody heard rumors about price drops to the powerbook line like the\n",
            "ones the duo's just went through recently?\n",
            "\n",
            "* what's the impression of the display on the 180?  i could probably swing\n",
            "a 180 if i got the 80Mb disk rather than the 120, but i don't really have\n",
            "a feel for how much \"better\" the display is (yea, it looks great in the\n",
            "store, but is that all \"wow\" or is it really that good?).  could i solicit\n",
            "some opinions of people who use the 160 and 180 day-to-day on if its worth\n",
            "taking the disk size and money hit to get the active display?  (i realize\n",
            "this is a real subjective question, but i've only played around with the\n",
            "machines in a computer store breifly and figured the opinions of somebody\n",
            "who actually uses the machine daily might prove helpful).\n",
            "\n",
            "* how well does hellcats perform?  ;)\n",
            "\n",
            "thanks a bunch in advance for any info - if you could email, i'll post a\n",
            "summary (news reading time is at a premium with finals just around the\n",
            "corner... :( )\n",
            "--\n",
            "Tom Willis  \\  twillis@ecn.purdue.edu    \\    Purdue Electrical Engineering\n",
            "User: exit\n"
          ]
        }
      ]
    }
  ]
}